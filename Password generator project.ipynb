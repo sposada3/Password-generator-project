{
 "cells": [
  {
   "cell_type": "code",
   "execution_count": null,
   "id": "bfcd92cb-70fb-4c15-b28f-0c921464616c",
   "metadata": {},
   "outputs": [],
   "source": [
    "#Password Generator Project\n",
    "import random\n",
    "letters = ['a', 'b', 'c', 'd', 'e', 'f', 'g', 'h', 'i', 'j', 'k', 'l', 'm', 'n', 'o', 'p', 'q', 'r', 's', 't', 'u', 'v', 'w', 'x', 'y', 'z', 'A', 'B', 'C', 'D', 'E', 'F', 'G', 'H', 'I', 'J', 'K', 'L', 'M', 'N', 'O', 'P', 'Q', 'R', 'S', 'T', 'U', 'V', 'W', 'X', 'Y', 'Z']\n",
    "numbers = ['0', '1', '2', '3', '4', '5', '6', '7', '8', '9']\n",
    "symbols = ['!', '#', '$', '%', '&', '(', ')', '*', '+']\n",
    "\n",
    "print(\"Welcome to the PyPassword Generator!\")\n",
    "nr_letters= int(input(\"How many letters would you like in your password?\\n\")) \n",
    "nr_symbols = int(input(f\"How many symbols would you like?\\n\"))\n",
    "nr_numbers = int(input(f\"How many numbers would you like?\\n\"))\n",
    "\n",
    "#Eazy Level - Order not randomised:\n",
    "#e.g. 4 letter, 2 symbol, 2 number = JduE&!91\n",
    "\n",
    "#Solution:\n",
    "\n",
    "password=''\n",
    "\n",
    "for letter in range(1, nr_letters+1):\n",
    "  password+=random.choice(letters)\n",
    "\n",
    "for num in range(1, nr_numbers+1):\n",
    "  password+=random.choice(numbers)\n",
    "\n",
    "for sym in range(1, nr_symbols+1):\n",
    "  password+=random.choice(symbols)\n",
    "\n",
    "print(f\"Your password is: {password}\")\n",
    "\n",
    "\n",
    "#Hard Level - Order of characters randomised:\n",
    "#e.g. 4 letter, 2 symbol, 2 number = g^2jk8&P\n",
    "\n",
    "#Solution:\n",
    "\n",
    "password=''\n",
    "for letter in range(1, nr_letters+1):\n",
    "  password+=random.choice(letters)\n",
    "\n",
    "for num in range(1, nr_numbers+1):\n",
    "  password+=random.choice(numbers)\n",
    "\n",
    "for sym in range(1, nr_symbols+1):\n",
    "  password+=random.choice(symbols)\n",
    "\n",
    "password_list = list(password)\n",
    "random.shuffle(password_list)\n",
    "print(\"Your password is: \" + ''.join(password_list))"
   ]
  }
 ],
 "metadata": {
  "kernelspec": {
   "display_name": "Python 3 (ipykernel)",
   "language": "python",
   "name": "python3"
  },
  "language_info": {
   "codemirror_mode": {
    "name": "ipython",
    "version": 3
   },
   "file_extension": ".py",
   "mimetype": "text/x-python",
   "name": "python",
   "nbconvert_exporter": "python",
   "pygments_lexer": "ipython3",
   "version": "3.9.7"
  }
 },
 "nbformat": 4,
 "nbformat_minor": 5
}
